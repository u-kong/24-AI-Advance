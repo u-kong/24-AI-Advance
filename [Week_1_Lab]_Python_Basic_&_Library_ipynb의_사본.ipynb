{
  "nbformat": 4,
  "nbformat_minor": 0,
  "metadata": {
    "colab": {
      "provenance": [],
      "include_colab_link": true
    },
    "kernelspec": {
      "name": "python3",
      "display_name": "Python 3"
    },
    "language_info": {
      "name": "python"
    }
  },
  "cells": [
    {
      "cell_type": "markdown",
      "metadata": {
        "id": "view-in-github",
        "colab_type": "text"
      },
      "source": [
        "<a href=\"https://colab.research.google.com/github/u-kong/24-AI-Advance/blob/main/%5BWeek_1_Lab%5D_Python_Basic_%26_Library_ipynb%EC%9D%98_%EC%82%AC%EB%B3%B8.ipynb\" target=\"_parent\"><img src=\"https://colab.research.google.com/assets/colab-badge.svg\" alt=\"Open In Colab\"/></a>"
      ]
    },
    {
      "cell_type": "markdown",
      "source": [
        "### 1주차 실습 파일"
      ],
      "metadata": {
        "id": "45EyPop4djc5"
      }
    },
    {
      "cell_type": "markdown",
      "source": [
        "- Number (숫자)"
      ],
      "metadata": {
        "id": "PUqysylkdmv8"
      }
    },
    {
      "cell_type": "code",
      "execution_count": null,
      "metadata": {
        "colab": {
          "base_uri": "https://localhost:8080/"
        },
        "id": "Wi2IOhoudCkx",
        "outputId": "2c405a2c-0e05-473f-eb9b-f9585955ac3d"
      },
      "outputs": [
        {
          "output_type": "stream",
          "name": "stdout",
          "text": [
            "10 3.14 (2+3j)\n"
          ]
        }
      ],
      "source": [
        "# 정수형\n",
        "x = 10\n",
        "# 실수형\n",
        "y = 3.14\n",
        "# 복소수형\n",
        "z = 2 + 3j\n",
        "\n",
        "print(x, y, z)"
      ]
    },
    {
      "cell_type": "markdown",
      "source": [
        "- String (문자열)"
      ],
      "metadata": {
        "id": "p5VVTaexdrqF"
      }
    },
    {
      "cell_type": "code",
      "source": [
        "message = \"Hello, World!\"\n",
        "\n",
        "print(message)"
      ],
      "metadata": {
        "colab": {
          "base_uri": "https://localhost:8080/"
        },
        "id": "TWzRsL-HduNw",
        "outputId": "89cd5e48-c7dd-4a98-f6a0-65a409536522"
      },
      "execution_count": null,
      "outputs": [
        {
          "output_type": "stream",
          "name": "stdout",
          "text": [
            "Hello, World!\n"
          ]
        }
      ]
    },
    {
      "cell_type": "markdown",
      "source": [
        "- List (리스트)"
      ],
      "metadata": {
        "id": "FPbnmaQEdw4l"
      }
    },
    {
      "cell_type": "code",
      "source": [
        "numbers = [1, 2, 3, 4, 5]\n",
        "fruits = ['apple', 'banana', 'cherry']\n",
        "\n",
        "print(numbers)\n",
        "print(fruits)"
      ],
      "metadata": {
        "colab": {
          "base_uri": "https://localhost:8080/"
        },
        "id": "2lM7hmfhdyhA",
        "outputId": "90179478-de8a-4395-c3d4-a0fe7c5f344e"
      },
      "execution_count": null,
      "outputs": [
        {
          "output_type": "stream",
          "name": "stdout",
          "text": [
            "[1, 2, 3, 4, 5]\n",
            "['apple', 'banana', 'cherry']\n"
          ]
        }
      ]
    },
    {
      "cell_type": "markdown",
      "source": [
        "- Tuple (튜플)"
      ],
      "metadata": {
        "id": "s2V5mczydzY3"
      }
    },
    {
      "cell_type": "code",
      "source": [
        "point = (10, 20)\n",
        "\n",
        "print(point)"
      ],
      "metadata": {
        "colab": {
          "base_uri": "https://localhost:8080/"
        },
        "id": "YWx5iZqKd1gC",
        "outputId": "eb6f5be2-d2eb-4ed6-e72e-b6cfab872c42"
      },
      "execution_count": null,
      "outputs": [
        {
          "output_type": "stream",
          "name": "stdout",
          "text": [
            "(10, 20)\n"
          ]
        }
      ]
    },
    {
      "cell_type": "markdown",
      "source": [
        "- Dictionary (사전)"
      ],
      "metadata": {
        "id": "hg9-8cYsd4DY"
      }
    },
    {
      "cell_type": "code",
      "source": [
        "person = {'name': 'John', 'age': 30, 'city': 'New York'}\n",
        "\n",
        "print(person)"
      ],
      "metadata": {
        "colab": {
          "base_uri": "https://localhost:8080/"
        },
        "id": "XQtBZ56Td6AQ",
        "outputId": "bd2588aa-3fb0-4745-b98c-35c4cd15b102"
      },
      "execution_count": null,
      "outputs": [
        {
          "output_type": "stream",
          "name": "stdout",
          "text": [
            "{'name': 'John', 'age': 30, 'city': 'New York'}\n"
          ]
        }
      ]
    },
    {
      "cell_type": "markdown",
      "source": [
        "- Set (집합):"
      ],
      "metadata": {
        "id": "QTkA2K0cd7rI"
      }
    },
    {
      "cell_type": "code",
      "source": [
        "fruits_set = {'apple', 'banana', 'cherry', 'banana'}\n",
        "\n",
        "print(fruits_set)"
      ],
      "metadata": {
        "colab": {
          "base_uri": "https://localhost:8080/"
        },
        "id": "pmuDc51Pd9Fj",
        "outputId": "76d19d52-a6aa-47fd-cede-132957f8fced"
      },
      "execution_count": null,
      "outputs": [
        {
          "output_type": "stream",
          "name": "stdout",
          "text": [
            "{'cherry', 'apple', 'banana'}\n"
          ]
        }
      ]
    },
    {
      "cell_type": "markdown",
      "source": [
        "\n",
        "\n",
        "---\n",
        "\n"
      ],
      "metadata": {
        "id": "3dO31JTte5ID"
      }
    },
    {
      "cell_type": "markdown",
      "source": [
        "### Python Library"
      ],
      "metadata": {
        "id": "e11VSfMNeE-a"
      }
    },
    {
      "cell_type": "markdown",
      "source": [
        "- Numpy 라이브러리"
      ],
      "metadata": {
        "id": "xF42yj75eKwI"
      }
    },
    {
      "cell_type": "code",
      "source": [
        "import numpy as np\n",
        "\n",
        "# 0으로 채워진 3x3 행렬 생성\n",
        "arr = np.zeros((3,3))\n",
        "\n",
        "print(arr)"
      ],
      "metadata": {
        "colab": {
          "base_uri": "https://localhost:8080/"
        },
        "id": "a_LJpnf6eIzw",
        "outputId": "1180cc82-3399-4791-d844-b28462387588"
      },
      "execution_count": null,
      "outputs": [
        {
          "output_type": "stream",
          "name": "stdout",
          "text": [
            "[[0. 0. 0.]\n",
            " [0. 0. 0.]\n",
            " [0. 0. 0.]]\n"
          ]
        }
      ]
    },
    {
      "cell_type": "markdown",
      "source": [
        "- Matplotlib 라이브러리"
      ],
      "metadata": {
        "id": "m-58ss3VeM_4"
      }
    },
    {
      "cell_type": "code",
      "source": [
        "import matplotlib.pyplot as plt\n",
        "\n",
        "# 간단한 그래프 그리기\n",
        "x = [1, 2, 3, 4, 5]\n",
        "y = [2, 3, 5, 7, 11]\n",
        "\n",
        "plt.plot(x, y)\n",
        "plt.xlabel('X-axis')\n",
        "plt.ylabel('Y-axis')\n",
        "plt.title('Sample Plot')\n",
        "plt.show()"
      ],
      "metadata": {
        "colab": {
          "base_uri": "https://localhost:8080/",
          "height": 472
        },
        "id": "Cy5k_P0yePMb",
        "outputId": "0f18264e-c941-463c-ff69-03dd82ad30e8"
      },
      "execution_count": null,
      "outputs": [
        {
          "output_type": "display_data",
          "data": {
            "text/plain": [
              "<Figure size 640x480 with 1 Axes>"
            ],
            "image/png": "[encoded data removed]"
          },
          "metadata": {}
        }
      ]
    },
    {
      "cell_type": "markdown",
      "source": [
        "- Pandas 라이브러리"
      ],
      "metadata": {
        "id": "QzBCojy_eQTr"
      }
    },
    {
      "cell_type": "code",
      "source": [
        "import pandas as pd\n",
        "\n",
        "# 간단한 데이터프레임 생성\n",
        "data = {'Name': ['John', 'Anna', 'Peter', 'Linda'],\n",
        "        'Age': [25, 30, 35, 40]}\n",
        "\n",
        "df = pd.DataFrame(data)\n",
        "\n",
        "print(df)"
      ],
      "metadata": {
        "colab": {
          "base_uri": "https://localhost:8080/"
        },
        "id": "QreHfxRKeSKc",
        "outputId": "251087f2-ea98-422d-c892-4f2dc0892128"
      },
      "execution_count": null,
      "outputs": [
        {
          "output_type": "stream",
          "name": "stdout",
          "text": [
            "    Name  Age\n",
            "0   John   25\n",
            "1   Anna   30\n",
            "2  Peter   35\n",
            "3  Linda   40\n"
          ]
        }
      ]
    },
    {
      "cell_type": "markdown",
      "source": [
        "\n",
        "\n",
        "---\n",
        "\n"
      ],
      "metadata": {
        "id": "YWkCuSpDe3by"
      }
    },
    {
      "cell_type": "markdown",
      "source": [
        "## Lab.1\n",
        "\n",
        "- 데이터 타입 활용 & 조작\n",
        "- 주어진 리스트에서 최댓값을 찾고, 해당 값과 리스트의 길이를 출력하는 프로그램을 작성\n",
        "\n",
        "\n",
        "\n",
        "```\n",
        "max_value = max(num)\n",
        "list_len = len(num)\n",
        "\n",
        "```\n",
        "\n"
      ],
      "metadata": {
        "id": "xh_0s3_ae4Xl"
      }
    },
    {
      "cell_type": "code",
      "source": [
        "numbers = [14, 27, 5, 62, 10, 3, 21]\n",
        "\n",
        "max_value = max(numbers)\n",
        "list_length = len(numbers)\n",
        "\n",
        "print(\"최댓값:\", max_value)\n",
        "print(\"리스트의 길이:\", list_length)"
      ],
      "metadata": {
        "id": "9xE7KaUIfDG7",
        "colab": {
          "base_uri": "https://localhost:8080/"
        },
        "outputId": "2fd4fa3d-3618-472e-c0ce-eb5bd591d433"
      },
      "execution_count": null,
      "outputs": [
        {
          "output_type": "stream",
          "name": "stdout",
          "text": [
            "최댓값: 62\n",
            "리스트의 길이: 7\n"
          ]
        }
      ]
    },
    {
      "cell_type": "markdown",
      "source": [
        "### Lab.2\n",
        "\n",
        "- 주어진 데이터를 Pandas 데이터프레임으로 읽고, 특정 조건에 맞는 데이터를 필터링하여 출력하는 프로그램을 작성하세요.\n",
        "\n",
        "\n",
        "```\n",
        "# Pandas Dataframe은 이런 형식으로 불러와서 사용해야 합니다.\n",
        "\n",
        "df = pd.DataFrame(data)\n",
        "\n",
        "# 필터링 형식\n",
        "df['Age'] >= 30\n",
        "```\n",
        "\n"
      ],
      "metadata": {
        "id": "PrHcRm8ze8F-"
      }
    },
    {
      "cell_type": "code",
      "source": [
        "import pandas as pd\n",
        "\n",
        "# 데이터프레임 생성\n",
        "data = {'Name': ['John', 'Anna', 'Peter', 'Linda'],\n",
        "        'Age': [25, 30, 35, 40]}\n",
        "\n",
        "df = pd.DataFrame(data)\n",
        "# print(df)\n",
        "# 나이가 30세 이상인 데이터 필터링\n",
        "filtered_data = df.loc[df['Age'] >= 30]\n",
        "\n",
        "print(\"나이가 30세 이상인 사람들의 정보:\")\n",
        "print(filtered_data)"
      ],
      "metadata": {
        "id": "L93eGhL7fCVR",
        "colab": {
          "base_uri": "https://localhost:8080/"
        },
        "outputId": "7bed60ab-47b3-483a-d3fc-7d1bfb61bf71"
      },
      "execution_count": null,
      "outputs": [
        {
          "output_type": "stream",
          "name": "stdout",
          "text": [
            "나이가 30세 이상인 사람들의 정보:\n",
            "    Name  Age\n",
            "1   Anna   30\n",
            "2  Peter   35\n",
            "3  Linda   40\n"
          ]
        }
      ]
    }
  ]
}